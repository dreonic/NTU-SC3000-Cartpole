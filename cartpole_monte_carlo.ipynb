{
  "cells": [
    {
      "cell_type": "markdown",
      "metadata": {
        "colab_type": "text",
        "id": "view-in-github"
      },
      "source": [
        "<a target=\"_blank\" href=\"https://colab.research.google.com/github/dreonic/NTU-SC3000-Cartpole/blob/main/cartpole_monte_carlo.ipynb\">\n",
        "  <img src=\"https://colab.research.google.com/assets/colab-badge.svg\" alt=\"Open In Colab\"/>\n",
        "</a>"
      ]
    },
    {
      "cell_type": "markdown",
      "metadata": {
        "id": "ZauhjPSfX7pI"
      },
      "source": [
        "# Balancing a Pole on a Cart"
      ]
    },
    {
      "cell_type": "markdown",
      "metadata": {},
      "source": [
        "## Team Contribution\n",
        "| Name | Contribution |\n",
        "| -- | -- |\n",
        "| Gillbert Susilo Wong | Code reinforcement learning agent using Monte Carlo method |\n",
        "| Juan Frederick | Provides justification and theoretical explaination for Monte Carlo reinforcement learning method |\n",
        "| Karl Devlin Chau | Explain the parameter values used in the Monte Carlo reinforcement learning method |"
      ]
    },
    {
      "cell_type": "markdown",
      "metadata": {
        "id": "UBiYOoesYMvr"
      },
      "source": [
        "## Installing dependencies:"
      ]
    },
    {
      "cell_type": "code",
      "execution_count": null,
      "metadata": {
        "colab": {
          "base_uri": "https://localhost:8080/"
        },
        "id": "PbgnVwZmX5uW",
        "outputId": "7dcfe5ac-b419-4d5d-8305-1ba3c1240df3"
      },
      "outputs": [],
      "source": [
        "!apt-get install -y xvfb python-opengl > /dev/null 2>&1\n",
        "!pip install gym pyvirtualdisplay > /dev/null 2>&1\n",
        "!pip install gym pyvirtualdisplay > /dev/null 2>&1\n",
        "!apt-get install -y xvfb python-opengl ffmpeg > /dev/null 2>&1\n",
        "!pip install gym[classic_control]\n",
        "!apt-get update > /dev/null 2>&1\n",
        "!apt-get install cmake > /dev/null 2>&1\n",
        "!pip install --upgrade setuptools 2>&1\n",
        "!pip install ez_setup > /dev/null 2>&1"
      ]
    },
    {
      "cell_type": "markdown",
      "metadata": {
        "id": "RwKbYeTgbaTA"
      },
      "source": [
        "## Importing dependencies and define helper functions"
      ]
    },
    {
      "cell_type": "code",
      "execution_count": 125,
      "metadata": {
        "id": "j6KpgCLGYWmj"
      },
      "outputs": [],
      "source": [
        "import gym\n",
        "from gym import logger as gymlogger\n",
        "from gym.wrappers import RecordVideo\n",
        "gymlogger.set_level(40) #error only\n",
        "import numpy as np\n",
        "import random\n",
        "import matplotlib.pyplot as plt\n",
        "%matplotlib inline\n",
        "import glob\n",
        "import io\n",
        "import base64\n",
        "from IPython.display import HTML\n",
        "from IPython import display as ipythondisplay\n",
        "from collections import defaultdict\n",
        "\n",
        "def show_video():\n",
        "  mp4list = glob.glob('video/*.mp4')\n",
        "  if len(mp4list) > 0:\n",
        "    mp4 = mp4list[0]\n",
        "    video = io.open(mp4, 'r+b').read()\n",
        "    encoded = base64.b64encode(video)\n",
        "    ipythondisplay.display(HTML(data='''<video alt=\"test\" autoplay \n",
        "                loop controls style=\"height: 400px;\">\n",
        "                <source src=\"data:video/mp4;base64,{0}\" type=\"video/mp4\" />\n",
        "             </video>'''.format(encoded.decode('ascii'))))\n",
        "  else: \n",
        "    print(\"Could not find video\")\n",
        "\n",
        "rng = np.random.default_rng()"
      ]
    },
    {
      "cell_type": "markdown",
      "metadata": {
        "id": "ehbqP9CXbmo7"
      },
      "source": [
        "## Tutorial: Loading CartPole environment"
      ]
    },
    {
      "cell_type": "code",
      "execution_count": 126,
      "metadata": {
        "id": "Go12dH4qbwBy"
      },
      "outputs": [],
      "source": [
        "env = gym.make(\"CartPole-v1\")"
      ]
    },
    {
      "cell_type": "markdown",
      "metadata": {
        "id": "9XZ9g3xrcAXE"
      },
      "source": [
        "We can check the action and observation space of this environment. Discrete(2) means that there are two valid discrete actions: 0 & 1."
      ]
    },
    {
      "cell_type": "code",
      "execution_count": 127,
      "metadata": {
        "colab": {
          "base_uri": "https://localhost:8080/"
        },
        "id": "ytxvVmLdcRyw",
        "outputId": "1ce07099-492b-4126-a792-8ff12d79c2db"
      },
      "outputs": [
        {
          "name": "stdout",
          "output_type": "stream",
          "text": [
            "Discrete(2)\n"
          ]
        }
      ],
      "source": [
        "print(env.action_space)"
      ]
    },
    {
      "cell_type": "markdown",
      "metadata": {
        "id": "pVXGWi_Ncfg-"
      },
      "source": [
        "The observation space is given below. The first two arrays define the min and max values of the 4 observed values, corresponding to cart position, velocity and pole angle, angular velocity."
      ]
    },
    {
      "cell_type": "code",
      "execution_count": 128,
      "metadata": {
        "colab": {
          "base_uri": "https://localhost:8080/"
        },
        "id": "DyqHr9I5cdkX",
        "outputId": "369a0733-e7c0-4bca-b427-5e1c603ff074"
      },
      "outputs": [
        {
          "name": "stdout",
          "output_type": "stream",
          "text": [
            "Box([-4.8000002e+00 -3.4028235e+38 -4.1887903e-01 -3.4028235e+38], [4.8000002e+00 3.4028235e+38 4.1887903e-01 3.4028235e+38], (4,), float32)\n"
          ]
        }
      ],
      "source": [
        "print(env.observation_space)"
      ]
    },
    {
      "cell_type": "markdown",
      "metadata": {
        "id": "HFOdaU2Gdyg0"
      },
      "source": [
        "We call each round of the pole-balancing game an \"episode\". At the start of each episode, make sure the environment is reset, which chooses a random initial state, e.g., pole slightly tilted to the right. This initialization can be achieved by the code below, which returns the observation of the initial state."
      ]
    },
    {
      "cell_type": "code",
      "execution_count": 129,
      "metadata": {
        "colab": {
          "base_uri": "https://localhost:8080/"
        },
        "id": "VMr6qAqxdOsm",
        "outputId": "0e35ee3b-15d0-4e1f-926c-194a5a43f830"
      },
      "outputs": [
        {
          "name": "stdout",
          "output_type": "stream",
          "text": [
            "Initial observations: [ 0.01484259  0.01112102  0.02432151 -0.02721777]\n"
          ]
        }
      ],
      "source": [
        "observation = env.reset()\n",
        "print(\"Initial observations:\", observation)"
      ]
    },
    {
      "cell_type": "markdown",
      "metadata": {
        "id": "qnG2QdfbeZrI"
      },
      "source": [
        "For the CartPole environment, there are two possible actions: 0 for pushing to the left and 1 for pushing to the right. For example, we can push the cart to the left using code below, which returns the new observation, the current reward, an indicator of whether the game ends, and some additional information (not used in this project). For CartPole, the game ends when the pole is significantly tilted or you manage to balance the pole for 500 steps. You get exactly 1 reward for each step before the game ends (i.e., max cumulative reward is 500)."
      ]
    },
    {
      "cell_type": "code",
      "execution_count": 130,
      "metadata": {
        "colab": {
          "base_uri": "https://localhost:8080/"
        },
        "id": "MmfMDvyYdWGk",
        "outputId": "fa12ffd8-6707-4cbc-fb86-aef8484d5d17"
      },
      "outputs": [
        {
          "name": "stdout",
          "output_type": "stream",
          "text": [
            "New observations after choosing action 0: [ 0.01506501 -0.18434112  0.02377716  0.27303854]\n",
            "Reward for this step: 1.0\n",
            "Is this round done? False\n"
          ]
        }
      ],
      "source": [
        "observation, reward, done, info = env.step(0)\n",
        "print(\"New observations after choosing action 0:\", observation)\n",
        "print(\"Reward for this step:\", reward)\n",
        "print(\"Is this round done?\", done)"
      ]
    },
    {
      "cell_type": "markdown",
      "metadata": {
        "id": "tj0zCh59fhBb"
      },
      "source": [
        "Now we can play a full round of the game using a naive strategy (always choosing action 0), and show the cumulative reward in the round. Note that reward returned by env.step(*) corresponds to the reward for current step. So we have to accumulate the reward for each step. Clearly, the naive strategy performs poorly by surviving only a dozen of steps."
      ]
    },
    {
      "cell_type": "code",
      "execution_count": 131,
      "metadata": {
        "colab": {
          "base_uri": "https://localhost:8080/"
        },
        "id": "AVucQVRwf6Jm",
        "outputId": "72f0b7d5-7cb5-4e37-da3d-997c1bfb4641"
      },
      "outputs": [
        {
          "name": "stdout",
          "output_type": "stream",
          "text": [
            "Cumulative reward for this round: 8.0\n"
          ]
        }
      ],
      "source": [
        "observation = env.reset()\n",
        "cumulative_reward = 0\n",
        "done = False\n",
        "while not done:\n",
        "    observation, reward, done, info = env.step(0)\n",
        "    cumulative_reward += reward\n",
        "print(\"Cumulative reward for this round:\", cumulative_reward)"
      ]
    },
    {
      "cell_type": "markdown",
      "metadata": {
        "id": "2oIzK9SzhlWN"
      },
      "source": [
        "## Task 1: Development of an RL agent"
      ]
    },
    {
      "cell_type": "markdown",
      "metadata": {
        "id": "Cc6_e5c_huiq"
      },
      "source": [
        "We implement a reinforcement learning agent utilizing a Monte Carlo method."
      ]
    },
    {
      "cell_type": "markdown",
      "metadata": {},
      "source": [
        "### State Quantization"
      ]
    },
    {
      "cell_type": "markdown",
      "metadata": {},
      "source": [
        "Since the CartPole environment's state is continuous, it will result in an infinite amount of value function for each state. Hence, we reduce the state size by quantizing its state into discrete values."
      ]
    },
    {
      "cell_type": "markdown",
      "metadata": {},
      "source": [
        "We define a function which divides a continuous range [`min_val`, `max_val`] into `n` bins."
      ]
    },
    {
      "cell_type": "code",
      "execution_count": 132,
      "metadata": {},
      "outputs": [],
      "source": [
        "def get_bins(min_val, max_val, n):\n",
        "    bins = []\n",
        "    step = (max_val - min_val) / (n - 1)\n",
        "    while min_val < max_val:\n",
        "        bins.append(min_val)\n",
        "        min_val += step\n",
        "    bins.append(max_val)\n",
        "    return np.array(bins)"
      ]
    },
    {
      "cell_type": "markdown",
      "metadata": {},
      "source": [
        "We create two bins, each containing 8 bins:\n",
        "1. `cart_bins` is the bins for cart position $[-4.8, 4.8]$ and cart velocity $(-\\infty,\\infty)$.\n",
        "2. `pole_bins` is the bins for pole angle $[-0.418  rad, 0.418  rad]$ and pole angular velocity $(-\\infty,\\infty)$."
      ]
    },
    {
      "cell_type": "code",
      "execution_count": 133,
      "metadata": {},
      "outputs": [],
      "source": [
        "cart_bins = get_bins(-4.8, 4.8, 8)\n",
        "pole_bins = get_bins(-0.418, 0.418, 8)"
      ]
    },
    {
      "cell_type": "markdown",
      "metadata": {},
      "source": [
        "We write a function to quantize a CartPole environment's state."
      ]
    },
    {
      "cell_type": "code",
      "execution_count": 134,
      "metadata": {},
      "outputs": [],
      "source": [
        "def quantize_cartpole(state):\n",
        "    return (np.digitize([state[0]], cart_bins)[0],\n",
        "            np.digitize([state[1]], cart_bins)[0],\n",
        "            np.digitize([state[2]], pole_bins)[0],\n",
        "            np.digitize([state[3]], pole_bins)[0],)"
      ]
    },
    {
      "cell_type": "markdown",
      "metadata": {},
      "source": [
        "### Implementation of the Monte Carlo method"
      ]
    },
    {
      "cell_type": "markdown",
      "metadata": {},
      "source": [
        "We use an on-policy first-visit Monte Carlo control algorithm with $\\varepsilon$-soft policies.\\\n",
        "Notably, we make the Monte Carlo model without exploring starts. It is unrealistic to assume that all state-action pairs will be visited and the starting conditions are unlikely to be helpful (Barto & Sutton, 2015, p. 120)."
      ]
    },
    {
      "cell_type": "markdown",
      "metadata": {},
      "source": [
        "Monte Carlo method adopts general policy iteration (GPI). In this method, we perform alternating complete steps of policy evaluation and\n",
        "policy improvement, beginning with an arbitrary policy $\\pi_0$ and ending with the optimal policy and optimal action-value function, $\\pi_*$ and $q_*$, respectively."
      ]
    },
    {
      "cell_type": "markdown",
      "metadata": {},
      "source": [
        "It is crucial to get the balance between exploitation and exploration. In exploitation, the agent must prefer actions it has tried in the past and found to be effective in producing rewards. Exploration is the means to discover such actions to try actions that it has not selected previously (Barto & Sutton, 2015, p. 3).\n"
      ]
    },
    {
      "cell_type": "markdown",
      "metadata": {},
      "source": [
        "We are using $\\varepsilon$-soft policy, which means that $\\pi(a|b)>0$ for all $s\\in S$ and $a\\in A(s)$.\\\n",
        "Specifically, $\\varepsilon$-greedy policy. Most of the time, it chooses an action that has maximal estimated action value (greedy), but with probability $\\varepsilon$ they instead select an action at random."
      ]
    },
    {
      "cell_type": "markdown",
      "metadata": {},
      "source": [
        "There are $A(s)$ actions, so each action have a $\\frac{\\varepsilon}{|A(s)|}$ probability of being chosen at random.\\\n",
        "Among the actions, one of them is also greedy, so in total there is a $1-\\varepsilon +\\frac{\\varepsilon}{A(s)}$ probability of choosing the greedy option (Barto & Sutton, 2015, p. 124)."
      ]
    },
    {
      "cell_type": "code",
      "execution_count": 135,
      "metadata": {},
      "outputs": [],
      "source": [
        "class MonteCarloControl:\n",
        "    def __init__(self, env, quantize_func, gamma=1.0, epsilon=0.05):\n",
        "        self.env = env\n",
        "\n",
        "        # state quantization function\n",
        "        self.quantize_func = quantize_func\n",
        "\n",
        "        # discount rate\n",
        "        self.gamma = gamma\n",
        "\n",
        "        # probability of choosing a non-optimal action\n",
        "        self.epsilon = epsilon\n",
        "\n",
        "        # cardinality of the action set\n",
        "        self.nA = self.env.action_space.n\n",
        "\n",
        "        # the approximate value function\n",
        "        self.Q = defaultdict(lambda: np.zeros(self.nA))\n",
        "    \n",
        "    def get_probabilities(self, state):\n",
        "        Qs = self.Q[state]\n",
        "        policy_s = np.ones(self.nA) * self.epsilon / self.nA\n",
        "        best_a = np.argmax(Qs)\n",
        "        policy_s[best_a] = 1 - self.epsilon + self.epsilon / self.nA\n",
        "        return policy_s\n",
        "    \n",
        "    def generate_episode(self):\n",
        "        episode = []\n",
        "        state = self.env.reset()\n",
        "        done = False\n",
        "        while not done:\n",
        "            quantized_state = self.quantize_func(state)\n",
        "            action = rng.choice(\n",
        "                np.arange(self.nA),\n",
        "                p=self.get_probabilities(quantized_state))\\\n",
        "                if quantized_state in self.Q else self.env.action_space.sample()\n",
        "            next_state, reward, done, info = self.env.step(action)\n",
        "            episode.append((quantized_state, action, reward))\n",
        "            state = next_state\n",
        "        return episode\n",
        "    \n",
        "    # updates Q, returns_sum, and visits\n",
        "    def update_values(self, episode, returns_sum, visits):\n",
        "        states, actions, rewards = zip(*episode)\n",
        "\n",
        "        # state-action pairs\n",
        "        sa_pairs = zip(states, actions)\n",
        "\n",
        "        # calculate the exponential discounts\n",
        "        discounts = np.array([self.gamma ** i for i in range(len(rewards) + 1)])\n",
        "\n",
        "        for i, sa_pair in enumerate(sa_pairs):\n",
        "            state, action = sa_pair\n",
        "            visits[state][action] += 1\n",
        "            returns_sum[state][action] += sum(rewards[i:] * discounts[:-(1+i)])\n",
        "            self.Q[state][action] = \\\n",
        "                returns_sum[state][action] / visits[state][action]\n",
        "        \n",
        "        return returns_sum, visits\n",
        "    \n",
        "    # approximate the value function Q and policy\n",
        "    def solve(self, num_eps):\n",
        "        # the sum of returns for each state-action pair first occurrence\n",
        "        returns_sum = defaultdict(lambda: np.zeros(self.nA))\n",
        "\n",
        "        # the number of visits to each state-action pair\n",
        "        visits = defaultdict(lambda: np.zeros(self.nA))\n",
        "\n",
        "        for ep_num in range(1, num_eps + 1):\n",
        "            if (100 * ep_num / num_eps) % 10 == 0:\n",
        "                print(f\"{100 * ep_num / num_eps}% completed...\")\n",
        "            episode = self.generate_episode()\n",
        "            returns_sum, visits = self.update_values(episode, returns_sum, visits)\n",
        "    \n",
        "    # obtain the state-action value function\n",
        "    def get_Q(self):\n",
        "        return self.Q\n",
        "    \n",
        "    # obtain policy pi from state-action value function Q\n",
        "    def get_policy(self):\n",
        "        policy = defaultdict(int)\n",
        "        for state, action_values in self.Q.items():\n",
        "            policy[state] = np.argmax(action_values)\n",
        "        return policy\n",
        "    \n",
        "    def get_agent(self):\n",
        "        policy = self.get_policy()\n",
        "        def agent(observation):\n",
        "            quantized_state = self.quantize_func(observation)\n",
        "            return policy[quantized_state]\n",
        "        return agent"
      ]
    },
    {
      "cell_type": "markdown",
      "metadata": {},
      "source": [
        "Discount rate $\\gamma$ ($0\\leq\\gamma\\leq1$) corresponds to the amount of value we give to future rewards after time step $t$ in each episode. Future rewards $k$ time steps in the future are discounted by $\\gamma^{k-1}$. Discount rates are necessary when the episodes run indefinitely.\n",
        "\n",
        "We use do not discount future rewards ($\\gamma=1$) here because episodes in the CartPole's environment do not run indefinitely. They are truncated once they reach a length of 500 time steps. Moreover, we value future rewards equally because we would like to keep the pole up and the cart within the screen as long as possible."
      ]
    },
    {
      "cell_type": "markdown",
      "metadata": {},
      "source": [
        "In order to balance exploration and exploitation, the $\\varepsilon$ value must be adjusted so that the agent is not stuck (Barto & Sutton, 2015, p. 36).\\\n",
        "We tried different $\\varepsilon$ values, and 0.1 was found to give the best result."
      ]
    },
    {
      "cell_type": "code",
      "execution_count": 136,
      "metadata": {},
      "outputs": [
        {
          "name": "stdout",
          "output_type": "stream",
          "text": [
            "10.0% completed...\n",
            "20.0% completed...\n"
          ]
        },
        {
          "name": "stdout",
          "output_type": "stream",
          "text": [
            "30.0% completed...\n",
            "40.0% completed...\n",
            "50.0% completed...\n",
            "60.0% completed...\n",
            "70.0% completed...\n",
            "80.0% completed...\n",
            "90.0% completed...\n",
            "100.0% completed...\n"
          ]
        }
      ],
      "source": [
        "mc_control = MonteCarloControl(env, quantize_cartpole, gamma=1.0, epsilon=0.1)\n",
        "mc_control.solve(1000)\n",
        "mc_policy_agent = mc_control.get_agent()"
      ]
    },
    {
      "cell_type": "markdown",
      "metadata": {
        "id": "RAi7KKwNiegR"
      },
      "source": [
        "For Task 1, we can show the observation and chosen action below:"
      ]
    },
    {
      "cell_type": "code",
      "execution_count": 137,
      "metadata": {
        "colab": {
          "base_uri": "https://localhost:8080/"
        },
        "id": "ae2ia-vUiNKJ",
        "outputId": "22c614ca-5ba0-43d3-d27a-d79073b5d04e"
      },
      "outputs": [
        {
          "name": "stdout",
          "output_type": "stream",
          "text": [
            "Observation: [ 0.03842504 -0.00385221  0.01659562 -0.02732668]\n",
            "Chosen action: 0\n"
          ]
        }
      ],
      "source": [
        "observation = env.reset()\n",
        "action = mc_policy_agent(observation)\n",
        "print(\"Observation:\", observation)\n",
        "print(\"Chosen action:\", action)"
      ]
    },
    {
      "cell_type": "markdown",
      "metadata": {
        "id": "-XtIQ0Rti1gm"
      },
      "source": [
        "## Task 2: Demonstrate the effectiveness of the RL agent"
      ]
    },
    {
      "cell_type": "markdown",
      "metadata": {
        "id": "djBEShf0kGI4"
      },
      "source": [
        "For this task, use the agent developed in Task 1 to play the game for 100 episodes (refer to tutorial for how to play a round), record the cumulative reward for each round, and plot the reward for each round. A sample plotting code is given below. Note that you must include code to play for 100 episodes and use the code to obtain round_results for plotting. DO NOT record the round results in advance and paste the results to the notebook."
      ]
    },
    {
      "cell_type": "code",
      "execution_count": 138,
      "metadata": {},
      "outputs": [],
      "source": [
        "results_list = []\n",
        "for _ in range(100):\n",
        "    observation = env.reset()\n",
        "    cumulative_reward = 0\n",
        "    done = False\n",
        "    while not done:\n",
        "        action = mc_policy_agent(observation)\n",
        "        observation, reward, done, info = env.step(action)\n",
        "        cumulative_reward += reward\n",
        "    results_list.append(cumulative_reward)"
      ]
    },
    {
      "cell_type": "code",
      "execution_count": 139,
      "metadata": {
        "colab": {
          "base_uri": "https://localhost:8080/",
          "height": 295
        },
        "id": "RZrCKywQi6CE",
        "outputId": "e304ecc5-14b6-4cf1-831b-dcb42eb46351"
      },
      "outputs": [
        {
          "data": {
            "image/png": "[encoded data removed]",
            "text/plain": [
              "<Figure size 640x480 with 1 Axes>"
            ]
          },
          "metadata": {},
          "output_type": "display_data"
        }
      ],
      "source": [
        "episode_results = np.array(results_list)\n",
        "plt.plot(episode_results)\n",
        "plt.title('Cumulative reward for each episode')\n",
        "plt.ylabel('Cumulative reward')\n",
        "plt.xlabel('episode')\n",
        "plt.show()"
      ]
    },
    {
      "cell_type": "markdown",
      "metadata": {
        "id": "XndSYH7wlvn7"
      },
      "source": [
        "Print the average reward over the 100 episodes."
      ]
    },
    {
      "cell_type": "code",
      "execution_count": 140,
      "metadata": {
        "colab": {
          "base_uri": "https://localhost:8080/"
        },
        "id": "pOiOp9OYlo5Y",
        "outputId": "7a02ba7b-ff17-41f2-aa7f-eb50d49a83fd"
      },
      "outputs": [
        {
          "name": "stdout",
          "output_type": "stream",
          "text": [
            "Average cumulative reward: 500.0\n",
            "Is my agent good enough? True\n"
          ]
        }
      ],
      "source": [
        "print(\"Average cumulative reward:\", episode_results.mean())\n",
        "print(\"Is my agent good enough?\", episode_results.mean() > 195)"
      ]
    },
    {
      "cell_type": "markdown",
      "metadata": {
        "id": "Yg0DCT38lFA6"
      },
      "source": [
        "## Task 3: Render one episode played by the agent"
      ]
    },
    {
      "cell_type": "markdown",
      "metadata": {
        "id": "vx1awMr9lc_w"
      },
      "source": [
        "Plug your agent to the code below to obtain rendered result."
      ]
    },
    {
      "cell_type": "code",
      "execution_count": 141,
      "metadata": {
        "colab": {
          "base_uri": "https://localhost:8080/",
          "height": 421
        },
        "id": "LYyavfbIa47D",
        "outputId": "10c2f1e7-f3b9-4975-ed25-7c380966a56c"
      },
      "outputs": [
        {
          "data": {
            "text/html": [
              "<video alt=\"test\" autoplay \n",
              "                loop controls style=\"height: 400px;\">\n",
              "                <source src=\"data:video/mp4;base64,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\" type=\"video/mp4\" />\n",
              "             </video>"
            ],
            "text/plain": [
              "<IPython.core.display.HTML object>"
            ]
          },
          "metadata": {},
          "output_type": "display_data"
        }
      ],
      "source": [
        "video_env = RecordVideo(gym.make(\"CartPole-v1\"), \"./video\")\n",
        "observation = video_env.reset()\n",
        "while True:\n",
        "    video_env.render()\n",
        "\n",
        "    # your agent goes here\n",
        "    action = mc_policy_agent(observation)\n",
        "\n",
        "    observation, reward, done, info = video_env.step(action) \n",
        "    if done: \n",
        "      break;    \n",
        "video_env.close()\n",
        "show_video()"
      ]
    }
  ],
  "metadata": {
    "colab": {
      "authorship_tag": "ABX9TyNczA+lJQOKjOo4XtzYjWQc",
      "include_colab_link": true,
      "provenance": []
    },
    "kernelspec": {
      "display_name": "Python 3",
      "name": "python3"
    },
    "language_info": {
      "codemirror_mode": {
        "name": "ipython",
        "version": 3
      },
      "file_extension": ".py",
      "mimetype": "text/x-python",
      "name": "python",
      "nbconvert_exporter": "python",
      "pygments_lexer": "ipython3",
      "version": "3.10.8"
    }
  },
  "nbformat": 4,
  "nbformat_minor": 0
}
